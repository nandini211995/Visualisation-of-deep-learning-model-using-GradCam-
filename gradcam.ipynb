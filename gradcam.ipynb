{
  "nbformat": 4,
  "nbformat_minor": 0,
  "metadata": {
    "colab": {
      "name": "DAI_Assignment3_q1.ipynb",
      "provenance": []
    },
    "kernelspec": {
      "name": "python3",
      "display_name": "Python 3"
    }
  },
  "cells": [
    {
      "cell_type": "code",
      "metadata": {
        "id": "-2Pr8TePU9DW",
        "colab": {
          "base_uri": "https://localhost:8080/"
        },
        "outputId": "3ed0961f-5988-4cf3-a42a-2f484e9529bc"
      },
      "source": [
        "!pip install pytorch-gradcam"
      ],
      "execution_count": 1,
      "outputs": [
        {
          "output_type": "stream",
          "text": [
            "Collecting pytorch-gradcam\n",
            "\u001b[?25l  Downloading https://files.pythonhosted.org/packages/e6/0a/55251f7cbea464581c6fb831813d38a41fdeb78f3dd8193522248cb98744/pytorch-gradcam-0.2.1.tar.gz (6.0MB)\n",
            "\u001b[K     |████████████████████████████████| 6.0MB 7.7MB/s \n",
            "\u001b[?25hRequirement already satisfied: opencv-python in /usr/local/lib/python3.6/dist-packages (from pytorch-gradcam) (4.1.2.30)\n",
            "Requirement already satisfied: numpy in /usr/local/lib/python3.6/dist-packages (from pytorch-gradcam) (1.19.5)\n",
            "Building wheels for collected packages: pytorch-gradcam\n",
            "  Building wheel for pytorch-gradcam (setup.py) ... \u001b[?25l\u001b[?25hdone\n",
            "  Created wheel for pytorch-gradcam: filename=pytorch_gradcam-0.2.1-cp36-none-any.whl size=5268 sha256=e1cb905e5b142d4cace3916d1e9be73d64806716699920897cdc7ac9409226c3\n",
            "  Stored in directory: /root/.cache/pip/wheels/e8/1e/35/d24150a078a90ce0ad093586814d4665e945466baa89907300\n",
            "Successfully built pytorch-gradcam\n",
            "Installing collected packages: pytorch-gradcam\n",
            "Successfully installed pytorch-gradcam-0.2.1\n"
          ],
          "name": "stdout"
        }
      ]
    },
    {
      "cell_type": "code",
      "metadata": {
        "id": "lAs_xdmynHlt"
      },
      "source": [
        "import numpy as np\r\n",
        "np.random.seed(123)    \r\n",
        "\r\n",
        "from keras.datasets import cifar10\r\n",
        "from keras.models import Sequential\r\n",
        "from keras.layers import Dense, Dropout, Activation, Flatten    \r\n",
        "from keras.layers import Convolution2D, MaxPooling2D    \r\n",
        "from keras.utils import np_utils    \r\n",
        "import tensorflow as tf\r\n",
        "import matplotlib.pyplot as plt\r\n",
        "import keras\r\n",
        "import sys\r\n",
        "#sys.path.insert(0, '/Users/av/Desktop/DataMining/myPythonFunctions')\r\n",
        "\r\n",
        "from gradcam import *"
      ],
      "execution_count": 2,
      "outputs": []
    },
    {
      "cell_type": "code",
      "metadata": {
        "id": "MDut2tvkmniJ"
      },
      "source": [
        "import numpy as np\r\n",
        "import tensorflow as tf\r\n",
        "from tensorflow import keras\r\n",
        "\r\n",
        "# Display\r\n",
        "from IPython.display import Image\r\n",
        "import matplotlib.pyplot as plt\r\n",
        "import matplotlib.cm as cm"
      ],
      "execution_count": 3,
      "outputs": []
    },
    {
      "cell_type": "code",
      "metadata": {
        "colab": {
          "base_uri": "https://localhost:8080/",
          "height": 339
        },
        "id": "BTxW9kUxT8hi",
        "outputId": "f0b46415-3624-43ea-e1b8-3b6d288b27fb"
      },
      "source": [
        "(X_train, y_train), (X_test, y_test) = cifar10.load_data()\r\n",
        "\r\n",
        "print ('Number of samples in training set=', \r\n",
        "       len(X_train), '\\n Pixels =', X_train.shape[1], 'x', X_train.shape[2])\r\n",
        "\r\n",
        "plt.imshow(X_train[0])    # Plot the first sample: sanity check\r\n",
        "plt.show()"
      ],
      "execution_count": 4,
      "outputs": [
        {
          "output_type": "stream",
          "text": [
            "Downloading data from https://www.cs.toronto.edu/~kriz/cifar-10-python.tar.gz\n",
            "170500096/170498071 [==============================] - 4s 0us/step\n",
            "Number of samples in training set= 50000 \n",
            " Pixels = 32 x 32\n"
          ],
          "name": "stdout"
        },
        {
          "output_type": "display_data",
          "data": {
            "image/png": "[encoded data removed]",
            "text/plain": [
              "<Figure size 432x288 with 1 Axes>"
            ]
          },
          "metadata": {
            "tags": [],
            "needs_background": "light"
          }
        }
      ]
    },
    {
      "cell_type": "markdown",
      "metadata": {
        "id": "Fb2Oz5fYVoO6"
      },
      "source": [
        "* Class 0 = airplane,\r\n",
        "* Class 1 = automobile,\r\n",
        "*Class 2 = bird,\r\n",
        "*Class 3 = cat,\r\n",
        "*Class 4 = deer,\r\n",
        "*Class 5 = dog,\r\n",
        "*Class 6 = frog,\r\n",
        "*Class 7 = horse,\r\n",
        "*Class 8 = ship,\r\n",
        "*Class 9 = truck"
      ]
    },
    {
      "cell_type": "code",
      "metadata": {
        "id": "SfVqGfasJP0w"
      },
      "source": [
        "# STEP 1: Preprocess input data\r\n",
        "\r\n",
        "# Convert data type to float32 and normalize to the range [0,1]\r\n",
        "X_train_pre = X_train.astype('float32')\r\n",
        "X_test_pre = X_test.astype('float32')\r\n",
        "X_train_pre /= 255\r\n",
        "X_test_pre/= 255\r\n",
        "\r\n",
        "\r\n",
        "\r\n",
        "# STEP 2: Preprocess class labels\r\n",
        "\r\n",
        "Y_train_pre = np_utils.to_categorical(y_train, 10)\r\n",
        "Y_test_pre = np_utils.to_categorical(y_test, 10)\r\n",
        " "
      ],
      "execution_count": 24,
      "outputs": []
    },
    {
      "cell_type": "code",
      "metadata": {
        "colab": {
          "base_uri": "https://localhost:8080/"
        },
        "id": "qlW5PsbpVEpj",
        "outputId": "182119b1-bc59-4eaf-8c12-db6f9d89acfd"
      },
      "source": [
        "\r\n",
        "    \r\n",
        "# STEP 3: Define model architecture\r\n",
        "\r\n",
        "model = Sequential() \r\n",
        "\r\n",
        "model.add(Convolution2D(32, (3, 3), activation='relu', input_shape=(32,32,3)))\r\n",
        "model.add(MaxPooling2D(pool_size=(2,2)))\r\n",
        "\r\n",
        "model.add(Convolution2D(64, (3, 3), activation='relu')) \r\n",
        "model.add(MaxPooling2D(pool_size=(2,2)))\r\n",
        "\r\n",
        "model.add(Flatten()) \r\n",
        "model.add(Dense(128, activation='relu')) \r\n",
        "\r\n",
        "# OUTPUT Dense layer: size=10, corresponding to 10 classes\r\n",
        "model.add(Dense(10, activation='softmax'))    \r\n",
        "\r\n",
        "\r\n",
        "\r\n",
        "# STEP 4: Compile model\r\n",
        "model.compile(loss='categorical_crossentropy', optimizer='adam', metrics=['accuracy'])\r\n",
        "print(model.summary())\r\n",
        "\r\n",
        "\r\n",
        "\r\n",
        "# STEP 5: Fit model on training data\r\n",
        "model.fit(X_train_pre, Y_train_pre, batch_size=256, epochs=10,  validation_split=0.2, verbose=1)\r\n",
        "\r\n",
        "\r\n",
        "\r\n"
      ],
      "execution_count": 6,
      "outputs": [
        {
          "output_type": "stream",
          "text": [
            "Model: \"sequential\"\n",
            "_________________________________________________________________\n",
            "Layer (type)                 Output Shape              Param #   \n",
            "=================================================================\n",
            "conv2d (Conv2D)              (None, 30, 30, 32)        896       \n",
            "_________________________________________________________________\n",
            "max_pooling2d (MaxPooling2D) (None, 15, 15, 32)        0         \n",
            "_________________________________________________________________\n",
            "conv2d_1 (Conv2D)            (None, 13, 13, 64)        18496     \n",
            "_________________________________________________________________\n",
            "max_pooling2d_1 (MaxPooling2 (None, 6, 6, 64)          0         \n",
            "_________________________________________________________________\n",
            "flatten (Flatten)            (None, 2304)              0         \n",
            "_________________________________________________________________\n",
            "dense (Dense)                (None, 128)               295040    \n",
            "_________________________________________________________________\n",
            "dense_1 (Dense)              (None, 10)                1290      \n",
            "=================================================================\n",
            "Total params: 315,722\n",
            "Trainable params: 315,722\n",
            "Non-trainable params: 0\n",
            "_________________________________________________________________\n",
            "None\n",
            "Epoch 1/10\n",
            "157/157 [==============================] - 44s 274ms/step - loss: 1.8797 - accuracy: 0.3169 - val_loss: 1.4200 - val_accuracy: 0.4984\n",
            "Epoch 2/10\n",
            "157/157 [==============================] - 43s 271ms/step - loss: 1.3665 - accuracy: 0.5156 - val_loss: 1.3184 - val_accuracy: 0.5292\n",
            "Epoch 3/10\n",
            "157/157 [==============================] - 43s 272ms/step - loss: 1.2275 - accuracy: 0.5707 - val_loss: 1.1764 - val_accuracy: 0.5894\n",
            "Epoch 4/10\n",
            "157/157 [==============================] - 43s 272ms/step - loss: 1.1199 - accuracy: 0.6078 - val_loss: 1.1423 - val_accuracy: 0.6064\n",
            "Epoch 5/10\n",
            "157/157 [==============================] - 42s 270ms/step - loss: 1.0386 - accuracy: 0.6415 - val_loss: 1.0770 - val_accuracy: 0.6244\n",
            "Epoch 6/10\n",
            "157/157 [==============================] - 42s 270ms/step - loss: 0.9909 - accuracy: 0.6536 - val_loss: 1.0224 - val_accuracy: 0.6458\n",
            "Epoch 7/10\n",
            "157/157 [==============================] - 42s 271ms/step - loss: 0.9349 - accuracy: 0.6822 - val_loss: 1.0418 - val_accuracy: 0.6358\n",
            "Epoch 8/10\n",
            "157/157 [==============================] - 42s 269ms/step - loss: 0.8963 - accuracy: 0.6925 - val_loss: 1.0033 - val_accuracy: 0.6570\n",
            "Epoch 9/10\n",
            "157/157 [==============================] - 42s 269ms/step - loss: 0.8592 - accuracy: 0.7060 - val_loss: 0.9605 - val_accuracy: 0.6681\n",
            "Epoch 10/10\n",
            "157/157 [==============================] - 52s 334ms/step - loss: 0.8102 - accuracy: 0.7204 - val_loss: 0.9411 - val_accuracy: 0.6774\n"
          ],
          "name": "stdout"
        },
        {
          "output_type": "execute_result",
          "data": {
            "text/plain": [
              "<tensorflow.python.keras.callbacks.History at 0x7f76ecc675c0>"
            ]
          },
          "metadata": {
            "tags": []
          },
          "execution_count": 6
        }
      ]
    },
    {
      "cell_type": "code",
      "metadata": {
        "colab": {
          "base_uri": "https://localhost:8080/"
        },
        "id": "cP89xSRUbzHn",
        "outputId": "ccf00444-8698-47b7-8cc4-17e44c2e4d8e"
      },
      "source": [
        "# STEP 6: Evaluate model on test data\r\n",
        "test_loss, test_acc = model.evaluate(X_test_pre, Y_test_pre, verbose=0)\r\n",
        "print('\\n Test accuracy:', test_acc)"
      ],
      "execution_count": 25,
      "outputs": [
        {
          "output_type": "stream",
          "text": [
            "\n",
            " Test accuracy: 0.6751000285148621\n"
          ],
          "name": "stdout"
        }
      ]
    },
    {
      "cell_type": "code",
      "metadata": {
        "id": "dLylnyHRZE-w"
      },
      "source": [
        "\r\n",
        "def make_gradcam_heatmap(\r\n",
        "    img_array, model, last_conv_layer_name, classifier_layer_names\r\n",
        "):\r\n",
        "    # First, we create a model that maps the input image to the activations\r\n",
        "    # of the last conv layer\r\n",
        "    last_conv_layer = model.get_layer(last_conv_layer_name)\r\n",
        "    last_conv_layer_model = keras.Model(model.inputs, last_conv_layer.output)\r\n",
        "\r\n",
        "    # Second, we create a model that maps the activations of the last conv\r\n",
        "    # layer to the final class predictions\r\n",
        "    classifier_input = keras.Input(shape=last_conv_layer.output.shape[1:])\r\n",
        "    x = classifier_input\r\n",
        "    for layer_name in classifier_layer_names:\r\n",
        "        x = model.get_layer(layer_name)(x)\r\n",
        "    classifier_model = keras.Model(classifier_input, x)\r\n",
        "\r\n",
        "    # Then, we compute the gradient of the top predicted class for our input image\r\n",
        "    # with respect to the activations of the last conv layer\r\n",
        "    with tf.GradientTape() as tape:\r\n",
        "        # Compute activations of the last conv layer and make the tape watch it\r\n",
        "        last_conv_layer_output = last_conv_layer_model(img_array)\r\n",
        "        tape.watch(last_conv_layer_output)\r\n",
        "        # Compute class predictions\r\n",
        "        preds = classifier_model(last_conv_layer_output)\r\n",
        "        top_pred_index = tf.argmax(preds[0])\r\n",
        "        top_class_channel = preds[:, top_pred_index]\r\n",
        "\r\n",
        "    # This is the gradient of the top predicted class with regard to\r\n",
        "    # the output feature map of the last conv layer\r\n",
        "    grads = tape.gradient(top_class_channel, last_conv_layer_output)\r\n",
        "\r\n",
        "    # This is a vector where each entry is the mean intensity of the gradient\r\n",
        "    # over a specific feature map channel\r\n",
        "    pooled_grads = tf.reduce_mean(grads, axis=(0, 1, 2))\r\n",
        "\r\n",
        "    # We multiply each channel in the feature map array\r\n",
        "    # by \"how important this channel is\" with regard to the top predicted class\r\n",
        "    last_conv_layer_output = last_conv_layer_output.numpy()[0]\r\n",
        "    pooled_grads = pooled_grads.numpy()\r\n",
        "    for i in range(pooled_grads.shape[-1]):\r\n",
        "        last_conv_layer_output[:, :, i] *= pooled_grads[i]\r\n",
        "\r\n",
        "    # The channel-wise mean of the resulting feature map\r\n",
        "    # is our heatmap of class activation\r\n",
        "    heatmap = np.mean(last_conv_layer_output, axis=-1)\r\n",
        "\r\n",
        "    # For visualization purpose, we will also normalize the heatmap between 0 & 1\r\n",
        "    heatmap = np.maximum(heatmap, 0) / np.max(heatmap)\r\n",
        "    return heatmap"
      ],
      "execution_count": 26,
      "outputs": []
    },
    {
      "cell_type": "code",
      "metadata": {
        "id": "NUKci-_VbsX0"
      },
      "source": [
        "last_conv_layer_name = \"max_pooling2d_1\"\r\n",
        "classifier_layer_names = [\"flatten\",\"dense\",\"dense_1\"]"
      ],
      "execution_count": 9,
      "outputs": []
    },
    {
      "cell_type": "code",
      "metadata": {
        "id": "T1YIOshKo6Rv"
      },
      "source": [
        "test_img1 = X_test_pre[0].reshape(1,32,32,3)"
      ],
      "execution_count": 10,
      "outputs": []
    },
    {
      "cell_type": "code",
      "metadata": {
        "colab": {
          "base_uri": "https://localhost:8080/"
        },
        "id": "0A2V77_qoUY1",
        "outputId": "97cd4ab8-cc91-40fe-f09d-46f40fb265bd"
      },
      "source": [
        "predict = model.predict(test_img1)\r\n",
        "#print(decode_predictions(predict,top=3))\r\n",
        "target_class = np.argmax(predict[0])\r\n",
        "print(\"Target Class = %d\"%target_class)"
      ],
      "execution_count": 11,
      "outputs": [
        {
          "output_type": "stream",
          "text": [
            "Target Class = 3\n"
          ],
          "name": "stdout"
        }
      ]
    },
    {
      "cell_type": "code",
      "metadata": {
        "colab": {
          "base_uri": "https://localhost:8080/"
        },
        "id": "k-a5bqY_edYR",
        "outputId": "60872526-5bdc-4f52-efe6-9218fdd846aa"
      },
      "source": [
        "y_test[0]"
      ],
      "execution_count": 12,
      "outputs": [
        {
          "output_type": "execute_result",
          "data": {
            "text/plain": [
              "array([3], dtype=uint8)"
            ]
          },
          "metadata": {
            "tags": []
          },
          "execution_count": 12
        }
      ]
    },
    {
      "cell_type": "code",
      "metadata": {
        "colab": {
          "base_uri": "https://localhost:8080/",
          "height": 275
        },
        "id": "oToDQv0jeirv",
        "outputId": "3b1f2c1b-76d5-415a-f9e5-e8b919dea20b"
      },
      "source": [
        "# Generate class activation heatmap\r\n",
        "heatmap = make_gradcam_heatmap(\r\n",
        "    test_img1, model, last_conv_layer_name, classifier_layer_names\r\n",
        ")\r\n",
        "\r\n",
        "# Display heatmap\r\n",
        "plt.matshow(heatmap)\r\n",
        "plt.show()"
      ],
      "execution_count": 13,
      "outputs": [
        {
          "output_type": "display_data",
          "data": {
            "image/png": "[encoded data removed]",
            "text/plain": [
              "<Figure size 288x288 with 1 Axes>"
            ]
          },
          "metadata": {
            "tags": [],
            "needs_background": "light"
          }
        }
      ]
    },
    {
      "cell_type": "code",
      "metadata": {
        "id": "J_uLEefwmWgN"
      },
      "source": [
        "# We rescale heatmap to a range 0-255\r\n",
        "heatmap = np.uint8(255 * heatmap)"
      ],
      "execution_count": 14,
      "outputs": []
    },
    {
      "cell_type": "code",
      "metadata": {
        "id": "s9-MKvE2mZ1R"
      },
      "source": [
        "# We use jet colormap to colorize heatmap\r\n",
        "jet = cm.get_cmap(\"jet\")"
      ],
      "execution_count": 15,
      "outputs": []
    },
    {
      "cell_type": "code",
      "metadata": {
        "id": "6KnVXvifmqpy"
      },
      "source": [
        "# We use RGB values of the colormap\r\n",
        "jet_colors = jet(np.arange(256))[:, :3]\r\n",
        "jet_heatmap = jet_colors[heatmap]"
      ],
      "execution_count": 16,
      "outputs": []
    },
    {
      "cell_type": "code",
      "metadata": {
        "id": "MGdsQ_lom1dE"
      },
      "source": [
        " img = X_test[0]"
      ],
      "execution_count": 17,
      "outputs": []
    },
    {
      "cell_type": "code",
      "metadata": {
        "id": "fVhLsJDImvOO"
      },
      "source": [
        "# We create an image with RGB colorized heatmap\r\n",
        "jet_heatmap = keras.preprocessing.image.array_to_img(jet_heatmap)\r\n",
        "jet_heatmap = jet_heatmap.resize((img.shape[1], img.shape[0]))\r\n",
        "jet_heatmap = keras.preprocessing.image.img_to_array(jet_heatmap)"
      ],
      "execution_count": 19,
      "outputs": []
    },
    {
      "cell_type": "code",
      "metadata": {
        "id": "xMLy55BnnmCQ"
      },
      "source": [
        "# Superimpose the heatmap on original image\r\n",
        "superimposed_img = jet_heatmap * 0.4 + img\r\n",
        "superimposed_img = keras.preprocessing.image.array_to_img(superimposed_img)"
      ],
      "execution_count": 20,
      "outputs": []
    },
    {
      "cell_type": "code",
      "metadata": {
        "colab": {
          "base_uri": "https://localhost:8080/",
          "height": 296
        },
        "id": "FBJVS19he3_M",
        "outputId": "a7122826-dfac-4e3e-bff6-84ec29a33ad2"
      },
      "source": [
        "plt.imshow(superimposed_img)\r\n",
        "#save_results_to = '/content/drive/MyDrive/DAI_Assignment3/'\r\n",
        "plt.title(\"True Label : %d \"%target_class + \"\\n Prediction Label : %d\"%target_class)\r\n",
        "plt.savefig(save_results_to + 'image{}.png'.format(1), dpi = 200)"
      ],
      "execution_count": 21,
      "outputs": [
        {
          "output_type": "display_data",
          "data": {
            "image/png": "[encoded data removed]",
            "text/plain": [
              "<Figure size 432x288 with 1 Axes>"
            ]
          },
          "metadata": {
            "tags": [],
            "needs_background": "light"
          }
        }
      ]
    },
    {
      "cell_type": "code",
      "metadata": {
        "id": "BNLSUMWDYDyO"
      },
      "source": [
        "reshape_test_img = []\r\n",
        "predict_test_img = []\r\n",
        "predict_label_test_img =[]\r\n",
        "for i in range(len(X_test)):\r\n",
        "    reshape_im = X_test_pre[i].reshape(1,32,32,3)\r\n",
        "    predict_im = model.predict(reshape_im)\r\n",
        "    target_class = np.argmax(predict_im[0])\r\n",
        "    reshape_test_img.append(reshape_im)\r\n",
        "    predict_test_img.append(predict_im)\r\n",
        "    predict_label_test_img.append(target_class)\r\n"
      ],
      "execution_count": 22,
      "outputs": []
    },
    {
      "cell_type": "code",
      "metadata": {
        "id": "Ox1LdY2iO9If"
      },
      "source": [
        "true_label_test_img = []\r\n",
        "for i in range(len(X_test)):\r\n",
        "    true_target_class = np.argmax(Y_test_pre[i])\r\n",
        "    true_label_test_img.append(true_target_class)\r\n"
      ],
      "execution_count": 23,
      "outputs": []
    },
    {
      "cell_type": "code",
      "metadata": {
        "id": "4wi5rL9kPsic"
      },
      "source": [
        "correct_pred_img = []\r\n",
        "incorrect_pred_img = []\r\n",
        "correct_pred_label = []\r\n",
        "incorrect_pred_label = []\r\n",
        "correct_test_img = []\r\n",
        "incorrect_test_img = []\r\n",
        "correct_test_label = []\r\n",
        "incorrect_test_label = []\r\n",
        "\r\n",
        "for i in range(len(X_test)):\r\n",
        "  if predict_label_test_img[i] == true_label_test_img[i] :\r\n",
        "    reshape_im = X_test_pre[i].reshape(1,32,32,3)\r\n",
        "    correct_test_img.append(X_test[i])\r\n",
        "    correct_pred_img.append(reshape_im)\r\n",
        "    correct_pred_label.append(predict_label_test_img[i])\r\n",
        "    correct_test_label.append(true_label_test_img[i])\r\n",
        "  else:\r\n",
        "    reshape_im = X_test_pre[i].reshape(1,32,32,3)\r\n",
        "    incorrect_test_img.append(X_test[i])\r\n",
        "    incorrect_pred_img.append(reshape_im)\r\n",
        "    incorrect_pred_label.append(predict_label_test_img[i])\r\n",
        "    incorrect_test_label.append(true_label_test_img [i])\r\n",
        "\r\n",
        "     "
      ],
      "execution_count": 27,
      "outputs": []
    },
    {
      "cell_type": "code",
      "metadata": {
        "colab": {
          "base_uri": "https://localhost:8080/",
          "height": 296
        },
        "id": "FN660eN6NSaV",
        "outputId": "3e01d1d7-7e1e-41b5-b135-0c7ea2949735"
      },
      "source": [
        "\r\n",
        "for i in range(1,150):\r\n",
        "  heatmap = make_gradcam_heatmap(correct_pred_img[i], model, last_conv_layer_name, classifier_layer_names)\r\n",
        "  # We rescale heatmap to a range 0-255\r\n",
        "  heatmap = np.uint8(255 * heatmap)\r\n",
        "  # We use jet colormap to colorize heatmap\r\n",
        "  jet = cm.get_cmap(\"jet\")\r\n",
        "  # We use RGB values of the colormap\r\n",
        "  jet_colors = jet(np.arange(256))[:, :3]\r\n",
        "  jet_heatmap = jet_colors[heatmap]\r\n",
        "  # We create an image with RGB colorized heatmap\r\n",
        "  img = correct_test_img[i]\r\n",
        "  jet_heatmap = keras.preprocessing.image.array_to_img(jet_heatmap)\r\n",
        "  jet_heatmap = jet_heatmap.resize((img.shape[1], img.shape[0]))\r\n",
        "  jet_heatmap = keras.preprocessing.image.img_to_array(jet_heatmap)\r\n",
        "  # Superimpose the heatmap on original image\r\n",
        "  superimposed_img = jet_heatmap * 0.4 + img\r\n",
        "  superimposed_img = keras.preprocessing.image.array_to_img(superimposed_img)\r\n",
        "  plt.imshow(superimposed_img)\r\n",
        "  save_results_to = '/content/drive/MyDrive/DAI_Assignment3/'\r\n",
        "  plt.title(\"True Label : %d \"%correct_test_label[i] + \"\\n Prediction Label : %d\"%correct_pred_label[i])\r\n",
        "  plt.savefig(save_results_to + 'image{}.png'.format(i), dpi = 150)"
      ],
      "execution_count": 28,
      "outputs": [
        {
          "output_type": "display_data",
          "data": {
            "image/png": "[encoded data removed]",
            "text/plain": [
              "<Figure size 432x288 with 1 Axes>"
            ]
          },
          "metadata": {
            "tags": [],
            "needs_background": "light"
          }
        }
      ]
    },
    {
      "cell_type": "code",
      "metadata": {
        "colab": {
          "base_uri": "https://localhost:8080/",
          "height": 296
        },
        "id": "aQPnnK6SqI6-",
        "outputId": "2cca754f-6936-403b-866c-0d6a3de6758b"
      },
      "source": [
        "for i in range(1,150):\r\n",
        "  heatmap = make_gradcam_heatmap(incorrect_pred_img[i], model, last_conv_layer_name, classifier_layer_names)\r\n",
        "  # We rescale heatmap to a range 0-255\r\n",
        "  heatmap = np.uint8(255 * heatmap)\r\n",
        "  # We use jet colormap to colorize heatmap\r\n",
        "  jet = cm.get_cmap(\"jet\")\r\n",
        "  # We use RGB values of the colormap\r\n",
        "  jet_colors = jet(np.arange(256))[:, :3]\r\n",
        "  jet_heatmap = jet_colors[heatmap]\r\n",
        "  # We create an image with RGB colorized heatmap\r\n",
        "  img = incorrect_test_img[i]\r\n",
        "  jet_heatmap = keras.preprocessing.image.array_to_img(jet_heatmap)\r\n",
        "  jet_heatmap = jet_heatmap.resize((img.shape[1], img.shape[0]))\r\n",
        "  jet_heatmap = keras.preprocessing.image.img_to_array(jet_heatmap)\r\n",
        "  # Superimpose the heatmap on original image\r\n",
        "  superimposed_img = jet_heatmap * 0.4 + img\r\n",
        "  superimposed_img = keras.preprocessing.image.array_to_img(superimposed_img)\r\n",
        "  plt.imshow(superimposed_img)\r\n",
        "  save_results_to = '/content/drive/MyDrive/DAI_Assignment3/incorrectImg'\r\n",
        "  plt.title(\"True Label : %d \"%incorrect_test_label[i] + \"\\n Prediction Label : %d\"%incorrect_pred_label[i])\r\n",
        "  plt.savefig(save_results_to + 'image{}.png'.format(i), dpi = 150)"
      ],
      "execution_count": 29,
      "outputs": [
        {
          "output_type": "display_data",
          "data": {
            "image/png": "[encoded data removed]",
            "text/plain": [
              "<Figure size 432x288 with 1 Axes>"
            ]
          },
          "metadata": {
            "tags": [],
            "needs_background": "light"
          }
        }
      ]
    },
    {
      "cell_type": "code",
      "metadata": {
        "id": "4xIOLKf0qb0Y"
      },
      "source": [
        ""
      ],
      "execution_count": null,
      "outputs": []
    }
  ]
}